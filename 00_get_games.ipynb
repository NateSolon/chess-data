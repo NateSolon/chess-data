{
 "cells": [
  {
   "cell_type": "markdown",
   "id": "d7b2a92e-b7df-4fa9-b25c-6e7943ee9fb0",
   "metadata": {},
   "source": [
    "# Import Games\n",
    "\n",
    "> Get games from major chess sites."
   ]
  },
  {
   "cell_type": "markdown",
   "id": "0ddc06dc-2df5-4720-9798-8cf3e7c16934",
   "metadata": {},
   "source": [
    "This isn't part of the library, just a demo notebook of how to access games online."
   ]
  },
  {
   "cell_type": "code",
   "execution_count": null,
   "id": "24ef1663-b1fe-489b-b31f-e7fc90429e7e",
   "metadata": {},
   "outputs": [],
   "source": [
    "import lichess.api\n",
    "from lichess.format import SINGLE_PGN"
   ]
  },
  {
   "cell_type": "code",
   "execution_count": null,
   "id": "b5e6575e-98f2-47be-a3f7-81e047a5c394",
   "metadata": {},
   "outputs": [],
   "source": [
    "user = \"DrNykterstein\" # Magnus Carlsen! You can change this to any lichess user."
   ]
  },
  {
   "cell_type": "code",
   "execution_count": null,
   "id": "38d5baeb-32a0-423d-8f2c-f7277c4afb97",
   "metadata": {},
   "outputs": [],
   "source": [
    "pgn = lichess.api.user_games(user, max=5, format=SINGLE_PGN)"
   ]
  },
  {
   "cell_type": "code",
   "execution_count": null,
   "id": "f9c6772a-fb4a-4bf2-a503-b073ec9f76bc",
   "metadata": {},
   "outputs": [],
   "source": [
    "with open(\"data/magnus.pgn\", \"w\") as f:\n",
    "    f.write(pgn)"
   ]
  },
  {
   "cell_type": "code",
   "execution_count": null,
   "id": "017d87c8-7a19-4854-a0bd-f150f94a5453",
   "metadata": {},
   "outputs": [],
   "source": []
  }
 ],
 "metadata": {
  "kernelspec": {
   "display_name": "Python 3",
   "language": "python",
   "name": "python3"
  }
 },
 "nbformat": 4,
 "nbformat_minor": 5
}
