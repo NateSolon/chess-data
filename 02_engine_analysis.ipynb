{
 "cells": [
  {
   "cell_type": "code",
   "execution_count": null,
   "id": "ff764297-0df2-4625-b45f-0a815cc0fb44",
   "metadata": {},
   "outputs": [],
   "source": [
    "# default_exp engine"
   ]
  },
  {
   "cell_type": "code",
   "execution_count": null,
   "id": "09a3e0bf-1c51-4561-a59f-820cb9a13a7c",
   "metadata": {},
   "outputs": [],
   "source": [
    "#export\n",
    "import chess.engine\n",
    "import chess.pgn\n",
    "import pandas as pd"
   ]
  },
  {
   "cell_type": "code",
   "execution_count": null,
   "id": "eb5643f9-a0d9-4fca-9356-70c01cd14018",
   "metadata": {},
   "outputs": [],
   "source": [
    "stockfish = \"stockfish_14_linux_x64_popcnt/stockfish_14_x64_popcnt\" # location of stockfish executable or alias"
   ]
  },
  {
   "cell_type": "code",
   "execution_count": null,
   "id": "33ae8b49-db5c-4e75-945e-a23900567b51",
   "metadata": {},
   "outputs": [],
   "source": [
    "engine = chess.engine.SimpleEngine.popen_uci(stockfish)"
   ]
  },
  {
   "cell_type": "code",
   "execution_count": null,
   "id": "cfe4e93f-0843-4632-a7ea-cf2890fa5b1c",
   "metadata": {},
   "outputs": [],
   "source": [
    "pgn = open(\"data/magnus.pgn\")"
   ]
  },
  {
   "cell_type": "code",
   "execution_count": null,
   "id": "8230c94c-c213-4fdd-a51b-e0d5e20fe3aa",
   "metadata": {},
   "outputs": [],
   "source": [
    "game = chess.pgn.read_game(pgn)"
   ]
  },
  {
   "cell_type": "code",
   "execution_count": null,
   "id": "70abac76-4b55-4f5b-b064-8894da3dc076",
   "metadata": {},
   "outputs": [
    {
     "data": {
      "text/plain": [
       "Headers(Event='Rated Blitz game', Site='https://lichess.org/lAV0T0zl', Date='2021.12.23', Round='?', White='DrNykterstein', Black='may6enexttime', Result='1-0', BlackElo='2974', BlackRatingDiff='-2', BlackTitle='GM', ECO='B20', Termination='Normal', TimeControl='180+0', UTCDate='2021.12.23', UTCTime='23:28:07', Variant='Standard', WhiteElo='3212', WhiteRatingDiff='+2', WhiteTitle='GM')"
      ]
     },
     "execution_count": null,
     "metadata": {},
     "output_type": "execute_result"
    }
   ],
   "source": [
    "game.headers"
   ]
  },
  {
   "cell_type": "code",
   "execution_count": null,
   "id": "ffe7d41d-f6b7-4959-a28c-5a8033628378",
   "metadata": {},
   "outputs": [],
   "source": [
    "#export\n",
    "def evaluate_game(game, engine, limit=chess.engine.Limit(time=.1)):\n",
    "    board = game.board()\n",
    "    moves = game.mainline_moves()\n",
    "    evals = []\n",
    "    for move in moves:\n",
    "        board.push(move)\n",
    "        info = engine.analyse(board, limit=limit)\n",
    "        score = info[\"score\"].pov(chess.WHITE).score()\n",
    "        evals.append(score)\n",
    "    return evals"
   ]
  },
  {
   "cell_type": "code",
   "execution_count": null,
   "id": "c2f14c00-a3ce-4f5c-a205-0a4cadca580a",
   "metadata": {},
   "outputs": [],
   "source": [
    "evals = evaluate_game(game, engine)"
   ]
  },
  {
   "cell_type": "code",
   "execution_count": null,
   "id": "50523711-4d02-48ba-be55-ca061e8320cc",
   "metadata": {},
   "outputs": [
    {
     "data": {
      "text/plain": [
       "[44,\n",
       " 41,\n",
       " -20,\n",
       " -8,\n",
       " -4,\n",
       " 13,\n",
       " 15,\n",
       " 60,\n",
       " 79,\n",
       " 87,\n",
       " -55,\n",
       " -50,\n",
       " -64,\n",
       " -73,\n",
       " -71,\n",
       " -68,\n",
       " -112,\n",
       " -146,\n",
       " -115,\n",
       " -153,\n",
       " -161,\n",
       " -168,\n",
       " -118,\n",
       " -50,\n",
       " -49,\n",
       " -72,\n",
       " -84,\n",
       " -46,\n",
       " -61,\n",
       " -80,\n",
       " -52,\n",
       " -4,\n",
       " -103,\n",
       " -35,\n",
       " -45,\n",
       " 5,\n",
       " 0,\n",
       " 0,\n",
       " -22,\n",
       " 316,\n",
       " 405,\n",
       " 372,\n",
       " 381,\n",
       " 413,\n",
       " 417,\n",
       " 417,\n",
       " 416,\n",
       " 554,\n",
       " 542,\n",
       " 519,\n",
       " 531,\n",
       " 525,\n",
       " 523,\n",
       " 625,\n",
       " 633]"
      ]
     },
     "execution_count": null,
     "metadata": {},
     "output_type": "execute_result"
    }
   ],
   "source": [
    "evals"
   ]
  },
  {
   "cell_type": "code",
   "execution_count": null,
   "id": "2dc90a08-cd99-443d-9987-2e2ef5acfe9b",
   "metadata": {},
   "outputs": [],
   "source": [
    "#export\n",
    "def evaluate_pgn(pgn, engine, limit=chess.engine.Limit(time=.1)):\n",
    "    game = chess.pgn.read_game(pgn)\n",
    "    all_evals = []\n",
    "    while game:\n",
    "        all_evals.append(evaluate_game(game, engine, limit))\n",
    "        game = chess.pgn.read_game(pgn)\n",
    "    df = pd.DataFrame(all_evals)\n",
    "    return df"
   ]
  },
  {
   "cell_type": "code",
   "execution_count": null,
   "id": "ccc8cb12-93be-4f9d-a0f6-c9f1edc3bcc6",
   "metadata": {},
   "outputs": [],
   "source": [
    "pgn = open(\"data/magnus.pgn\")"
   ]
  },
  {
   "cell_type": "code",
   "execution_count": null,
   "id": "c4039658-6454-4fb1-b5a0-76181ab34da4",
   "metadata": {},
   "outputs": [],
   "source": [
    "evals = evaluate_pgn(pgn, engine)"
   ]
  },
  {
   "cell_type": "code",
   "execution_count": null,
   "id": "1219152d-9955-4b56-8113-0a9362e4382c",
   "metadata": {},
   "outputs": [
    {
     "data": {
      "text/html": [
       "<div>\n",
       "<style scoped>\n",
       "    .dataframe tbody tr th:only-of-type {\n",
       "        vertical-align: middle;\n",
       "    }\n",
       "\n",
       "    .dataframe tbody tr th {\n",
       "        vertical-align: top;\n",
       "    }\n",
       "\n",
       "    .dataframe thead th {\n",
       "        text-align: right;\n",
       "    }\n",
       "</style>\n",
       "<table border=\"1\" class=\"dataframe\">\n",
       "  <thead>\n",
       "    <tr style=\"text-align: right;\">\n",
       "      <th></th>\n",
       "      <th>0</th>\n",
       "      <th>1</th>\n",
       "      <th>2</th>\n",
       "      <th>3</th>\n",
       "      <th>4</th>\n",
       "      <th>5</th>\n",
       "      <th>6</th>\n",
       "      <th>7</th>\n",
       "      <th>8</th>\n",
       "      <th>9</th>\n",
       "      <th>...</th>\n",
       "      <th>127</th>\n",
       "      <th>128</th>\n",
       "      <th>129</th>\n",
       "      <th>130</th>\n",
       "      <th>131</th>\n",
       "      <th>132</th>\n",
       "      <th>133</th>\n",
       "      <th>134</th>\n",
       "      <th>135</th>\n",
       "      <th>136</th>\n",
       "    </tr>\n",
       "  </thead>\n",
       "  <tbody>\n",
       "    <tr>\n",
       "      <th>0</th>\n",
       "      <td>34</td>\n",
       "      <td>31</td>\n",
       "      <td>-5</td>\n",
       "      <td>-12</td>\n",
       "      <td>-7</td>\n",
       "      <td>12</td>\n",
       "      <td>3</td>\n",
       "      <td>48</td>\n",
       "      <td>50</td>\n",
       "      <td>75</td>\n",
       "      <td>...</td>\n",
       "      <td>None</td>\n",
       "      <td>None</td>\n",
       "      <td>None</td>\n",
       "      <td>None</td>\n",
       "      <td>None</td>\n",
       "      <td>None</td>\n",
       "      <td>None</td>\n",
       "      <td>None</td>\n",
       "      <td>None</td>\n",
       "      <td>None</td>\n",
       "    </tr>\n",
       "    <tr>\n",
       "      <th>1</th>\n",
       "      <td>36</td>\n",
       "      <td>33</td>\n",
       "      <td>49</td>\n",
       "      <td>37</td>\n",
       "      <td>44</td>\n",
       "      <td>43</td>\n",
       "      <td>48</td>\n",
       "      <td>20</td>\n",
       "      <td>22</td>\n",
       "      <td>24</td>\n",
       "      <td>...</td>\n",
       "      <td>None</td>\n",
       "      <td>None</td>\n",
       "      <td>None</td>\n",
       "      <td>None</td>\n",
       "      <td>None</td>\n",
       "      <td>None</td>\n",
       "      <td>None</td>\n",
       "      <td>None</td>\n",
       "      <td>None</td>\n",
       "      <td>None</td>\n",
       "    </tr>\n",
       "    <tr>\n",
       "      <th>2</th>\n",
       "      <td>43</td>\n",
       "      <td>33</td>\n",
       "      <td>-16</td>\n",
       "      <td>-6</td>\n",
       "      <td>-14</td>\n",
       "      <td>-7</td>\n",
       "      <td>6</td>\n",
       "      <td>0</td>\n",
       "      <td>20</td>\n",
       "      <td>15</td>\n",
       "      <td>...</td>\n",
       "      <td>None</td>\n",
       "      <td>None</td>\n",
       "      <td>None</td>\n",
       "      <td>None</td>\n",
       "      <td>None</td>\n",
       "      <td>None</td>\n",
       "      <td>None</td>\n",
       "      <td>None</td>\n",
       "      <td>None</td>\n",
       "      <td>None</td>\n",
       "    </tr>\n",
       "    <tr>\n",
       "      <th>3</th>\n",
       "      <td>29</td>\n",
       "      <td>25</td>\n",
       "      <td>40</td>\n",
       "      <td>23</td>\n",
       "      <td>24</td>\n",
       "      <td>25</td>\n",
       "      <td>25</td>\n",
       "      <td>11</td>\n",
       "      <td>9</td>\n",
       "      <td>18</td>\n",
       "      <td>...</td>\n",
       "      <td>None</td>\n",
       "      <td>None</td>\n",
       "      <td>None</td>\n",
       "      <td>None</td>\n",
       "      <td>None</td>\n",
       "      <td>None</td>\n",
       "      <td>None</td>\n",
       "      <td>None</td>\n",
       "      <td>None</td>\n",
       "      <td>None</td>\n",
       "    </tr>\n",
       "    <tr>\n",
       "      <th>4</th>\n",
       "      <td>40</td>\n",
       "      <td>57</td>\n",
       "      <td>-21</td>\n",
       "      <td>-22</td>\n",
       "      <td>-29</td>\n",
       "      <td>-16</td>\n",
       "      <td>-5</td>\n",
       "      <td>-8</td>\n",
       "      <td>-45</td>\n",
       "      <td>-16</td>\n",
       "      <td>...</td>\n",
       "      <td>None</td>\n",
       "      <td>None</td>\n",
       "      <td>None</td>\n",
       "      <td>None</td>\n",
       "      <td>None</td>\n",
       "      <td>None</td>\n",
       "      <td>None</td>\n",
       "      <td>None</td>\n",
       "      <td>None</td>\n",
       "      <td>None</td>\n",
       "    </tr>\n",
       "  </tbody>\n",
       "</table>\n",
       "<p>5 rows × 137 columns</p>\n",
       "</div>"
      ],
      "text/plain": [
       "   0    1    2    3    4    5    6    7    8    9    ...   127   128   129  \\\n",
       "0   34   31   -5  -12   -7   12    3   48   50   75  ...  None  None  None   \n",
       "1   36   33   49   37   44   43   48   20   22   24  ...  None  None  None   \n",
       "2   43   33  -16   -6  -14   -7    6    0   20   15  ...  None  None  None   \n",
       "3   29   25   40   23   24   25   25   11    9   18  ...  None  None  None   \n",
       "4   40   57  -21  -22  -29  -16   -5   -8  -45  -16  ...  None  None  None   \n",
       "\n",
       "    130   131   132   133   134   135   136  \n",
       "0  None  None  None  None  None  None  None  \n",
       "1  None  None  None  None  None  None  None  \n",
       "2  None  None  None  None  None  None  None  \n",
       "3  None  None  None  None  None  None  None  \n",
       "4  None  None  None  None  None  None  None  \n",
       "\n",
       "[5 rows x 137 columns]"
      ]
     },
     "execution_count": null,
     "metadata": {},
     "output_type": "execute_result"
    }
   ],
   "source": [
    "evals"
   ]
  },
  {
   "cell_type": "code",
   "execution_count": null,
   "id": "c7eb7fbd-91d3-4fd5-b577-201ef2bb7468",
   "metadata": {},
   "outputs": [],
   "source": [
    "evals.to_csv(\"data/magnus_evals.csv\")"
   ]
  },
  {
   "cell_type": "code",
   "execution_count": null,
   "id": "fc84aacb-64cb-4e7f-9244-89708cfc67e7",
   "metadata": {},
   "outputs": [],
   "source": []
  }
 ],
 "metadata": {
  "kernelspec": {
   "display_name": "Python 3",
   "language": "python",
   "name": "python3"
  }
 },
 "nbformat": 4,
 "nbformat_minor": 5
}
