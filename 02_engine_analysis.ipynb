{
 "cells": [
  {
   "cell_type": "code",
   "execution_count": null,
   "id": "ff764297-0df2-4625-b45f-0a815cc0fb44",
   "metadata": {},
   "outputs": [],
   "source": [
    "# default_exp engine"
   ]
  },
  {
   "cell_type": "markdown",
   "id": "c9af4a0d-9f3f-4d00-b82a-1b821978ddd9",
   "metadata": {},
   "source": [
    "# Engine\n",
    "\n",
    "> Use a chess engine to analyze moves."
   ]
  },
  {
   "cell_type": "code",
   "execution_count": null,
   "id": "09a3e0bf-1c51-4561-a59f-820cb9a13a7c",
   "metadata": {},
   "outputs": [],
   "source": [
    "#export\n",
    "import chess.engine\n",
    "import chess.pgn\n",
    "import pandas as pd"
   ]
  },
  {
   "cell_type": "code",
   "execution_count": null,
   "id": "eb5643f9-a0d9-4fca-9356-70c01cd14018",
   "metadata": {},
   "outputs": [],
   "source": [
    "stockfish = \"stockfish_14_linux_x64_popcnt/stockfish_14_x64_popcnt\" # lcation of stockfish executable or alias"
   ]
  },
  {
   "cell_type": "code",
   "execution_count": null,
   "id": "33ae8b49-db5c-4e75-945e-a23900567b51",
   "metadata": {},
   "outputs": [],
   "source": [
    "engine = chess.engine.SimpleEngine.popen_uci(stockfish)"
   ]
  },
  {
   "cell_type": "code",
   "execution_count": null,
   "id": "cfe4e93f-0843-4632-a7ea-cf2890fa5b1c",
   "metadata": {},
   "outputs": [],
   "source": [
    "pgn = open(\"data/magnus.pgn\")"
   ]
  },
  {
   "cell_type": "code",
   "execution_count": null,
   "id": "8230c94c-c213-4fdd-a51b-e0d5e20fe3aa",
   "metadata": {},
   "outputs": [],
   "source": [
    "game = chess.pgn.read_game(pgn)"
   ]
  },
  {
   "cell_type": "code",
   "execution_count": null,
   "id": "70abac76-4b55-4f5b-b064-8894da3dc076",
   "metadata": {},
   "outputs": [
    {
     "data": {
      "text/plain": [
       "Headers(Event='Rated Blitz game', Site='https://lichess.org/lAV0T0zl', Date='2021.12.23', Round='?', White='DrNykterstein', Black='may6enexttime', Result='1-0', BlackElo='2974', BlackRatingDiff='-2', BlackTitle='GM', ECO='B20', Termination='Normal', TimeControl='180+0', UTCDate='2021.12.23', UTCTime='23:28:07', Variant='Standard', WhiteElo='3212', WhiteRatingDiff='+2', WhiteTitle='GM')"
      ]
     },
     "execution_count": null,
     "metadata": {},
     "output_type": "execute_result"
    }
   ],
   "source": [
    "game.headers"
   ]
  },
  {
   "cell_type": "code",
   "execution_count": null,
   "id": "ffe7d41d-f6b7-4959-a28c-5a8033628378",
   "metadata": {},
   "outputs": [],
   "source": [
    "#export\n",
    "def evaluate_game(game, engine, limit=chess.engine.Limit(time=.1)):\n",
    "    \"\"\"Go through a game move-by-move and evaluate each position with an engine.\n",
    "    \"\"\"\n",
    "    board = game.board()\n",
    "    moves = game.mainline_moves()\n",
    "    evals = []\n",
    "    for move in moves:\n",
    "        board.push(move)\n",
    "        info = engine.analyse(board, limit=limit)\n",
    "        score = info[\"score\"].pov(chess.WHITE).score(mate_score=10_000)\n",
    "        evals.append(score)\n",
    "    return evals"
   ]
  },
  {
   "cell_type": "code",
   "execution_count": null,
   "id": "c2f14c00-a3ce-4f5c-a205-0a4cadca580a",
   "metadata": {},
   "outputs": [],
   "source": [
    "evals = evaluate_game(game, engine)"
   ]
  },
  {
   "cell_type": "code",
   "execution_count": null,
   "id": "50523711-4d02-48ba-be55-ca061e8320cc",
   "metadata": {},
   "outputs": [
    {
     "data": {
      "text/plain": [
       "[47,\n",
       " 21,\n",
       " -27,\n",
       " -30,\n",
       " -24,\n",
       " -2,\n",
       " 17,\n",
       " 50,\n",
       " 76,\n",
       " 109,\n",
       " -97,\n",
       " -62,\n",
       " -71,\n",
       " -98,\n",
       " -102,\n",
       " -90,\n",
       " -147,\n",
       " -122,\n",
       " -146,\n",
       " -161,\n",
       " -167,\n",
       " -166,\n",
       " -165,\n",
       " -49,\n",
       " -58,\n",
       " -79,\n",
       " -41,\n",
       " -72,\n",
       " -61,\n",
       " -80,\n",
       " -65,\n",
       " -7,\n",
       " -45,\n",
       " 4,\n",
       " -1,\n",
       " 16,\n",
       " 1,\n",
       " 3,\n",
       " 8,\n",
       " 290,\n",
       " 289,\n",
       " 362,\n",
       " 437,\n",
       " 350,\n",
       " 397,\n",
       " 354,\n",
       " 382,\n",
       " 551,\n",
       " 543,\n",
       " 537,\n",
       " 517,\n",
       " 513,\n",
       " 530,\n",
       " 591,\n",
       " 596]"
      ]
     },
     "execution_count": null,
     "metadata": {},
     "output_type": "execute_result"
    }
   ],
   "source": [
    "evals"
   ]
  },
  {
   "cell_type": "code",
   "execution_count": null,
   "id": "2dc90a08-cd99-443d-9987-2e2ef5acfe9b",
   "metadata": {},
   "outputs": [],
   "source": [
    "#export\n",
    "def evaluate_pgn(pgn, engine, limit=chess.engine.Limit(time=.1)):\n",
    "    \"\"\"Evaluate all games in a PGN with the engine.\n",
    "    \"\"\"\n",
    "    game = chess.pgn.read_game(pgn)\n",
    "    all_evals = []\n",
    "    while game:\n",
    "        evals = evaluate_game(game, engine, limit)\n",
    "        all_evals.append(evals)\n",
    "        game = chess.pgn.read_game(pgn)\n",
    "    df = pd.DataFrame(all_evals)\n",
    "    return df"
   ]
  },
  {
   "cell_type": "code",
   "execution_count": null,
   "id": "ccc8cb12-93be-4f9d-a0f6-c9f1edc3bcc6",
   "metadata": {},
   "outputs": [],
   "source": [
    "pgn = open(\"data/magnus.pgn\")"
   ]
  },
  {
   "cell_type": "code",
   "execution_count": null,
   "id": "c4039658-6454-4fb1-b5a0-76181ab34da4",
   "metadata": {},
   "outputs": [
    {
     "name": "stdout",
     "output_type": "stream",
     "text": [
      "55\n",
      "120\n",
      "137\n",
      "74\n",
      "53\n"
     ]
    }
   ],
   "source": [
    "evals = evaluate_pgn(pgn, engine)"
   ]
  },
  {
   "cell_type": "code",
   "execution_count": null,
   "id": "1219152d-9955-4b56-8113-0a9362e4382c",
   "metadata": {},
   "outputs": [
    {
     "data": {
      "text/html": [
       "<div>\n",
       "<style scoped>\n",
       "    .dataframe tbody tr th:only-of-type {\n",
       "        vertical-align: middle;\n",
       "    }\n",
       "\n",
       "    .dataframe tbody tr th {\n",
       "        vertical-align: top;\n",
       "    }\n",
       "\n",
       "    .dataframe thead th {\n",
       "        text-align: right;\n",
       "    }\n",
       "</style>\n",
       "<table border=\"1\" class=\"dataframe\">\n",
       "  <thead>\n",
       "    <tr style=\"text-align: right;\">\n",
       "      <th></th>\n",
       "      <th>0</th>\n",
       "      <th>1</th>\n",
       "      <th>2</th>\n",
       "      <th>3</th>\n",
       "      <th>4</th>\n",
       "      <th>5</th>\n",
       "      <th>6</th>\n",
       "      <th>7</th>\n",
       "      <th>8</th>\n",
       "      <th>9</th>\n",
       "      <th>...</th>\n",
       "      <th>127</th>\n",
       "      <th>128</th>\n",
       "      <th>129</th>\n",
       "      <th>130</th>\n",
       "      <th>131</th>\n",
       "      <th>132</th>\n",
       "      <th>133</th>\n",
       "      <th>134</th>\n",
       "      <th>135</th>\n",
       "      <th>136</th>\n",
       "    </tr>\n",
       "  </thead>\n",
       "  <tbody>\n",
       "    <tr>\n",
       "      <th>0</th>\n",
       "      <td>52</td>\n",
       "      <td>55</td>\n",
       "      <td>-27</td>\n",
       "      <td>-15</td>\n",
       "      <td>0</td>\n",
       "      <td>22</td>\n",
       "      <td>-5</td>\n",
       "      <td>55</td>\n",
       "      <td>28</td>\n",
       "      <td>48</td>\n",
       "      <td>...</td>\n",
       "      <td>NaN</td>\n",
       "      <td>NaN</td>\n",
       "      <td>NaN</td>\n",
       "      <td>NaN</td>\n",
       "      <td>NaN</td>\n",
       "      <td>NaN</td>\n",
       "      <td>NaN</td>\n",
       "      <td>NaN</td>\n",
       "      <td>NaN</td>\n",
       "      <td>NaN</td>\n",
       "    </tr>\n",
       "    <tr>\n",
       "      <th>1</th>\n",
       "      <td>40</td>\n",
       "      <td>52</td>\n",
       "      <td>37</td>\n",
       "      <td>34</td>\n",
       "      <td>34</td>\n",
       "      <td>21</td>\n",
       "      <td>31</td>\n",
       "      <td>15</td>\n",
       "      <td>24</td>\n",
       "      <td>13</td>\n",
       "      <td>...</td>\n",
       "      <td>NaN</td>\n",
       "      <td>NaN</td>\n",
       "      <td>NaN</td>\n",
       "      <td>NaN</td>\n",
       "      <td>NaN</td>\n",
       "      <td>NaN</td>\n",
       "      <td>NaN</td>\n",
       "      <td>NaN</td>\n",
       "      <td>NaN</td>\n",
       "      <td>NaN</td>\n",
       "    </tr>\n",
       "    <tr>\n",
       "      <th>2</th>\n",
       "      <td>38</td>\n",
       "      <td>44</td>\n",
       "      <td>-11</td>\n",
       "      <td>0</td>\n",
       "      <td>-1</td>\n",
       "      <td>-13</td>\n",
       "      <td>-16</td>\n",
       "      <td>1</td>\n",
       "      <td>5</td>\n",
       "      <td>5</td>\n",
       "      <td>...</td>\n",
       "      <td>9986.0</td>\n",
       "      <td>9984.0</td>\n",
       "      <td>9991.0</td>\n",
       "      <td>9992.0</td>\n",
       "      <td>9993.0</td>\n",
       "      <td>9994.0</td>\n",
       "      <td>9994.0</td>\n",
       "      <td>5870.0</td>\n",
       "      <td>9987.0</td>\n",
       "      <td>9988.0</td>\n",
       "    </tr>\n",
       "    <tr>\n",
       "      <th>3</th>\n",
       "      <td>40</td>\n",
       "      <td>31</td>\n",
       "      <td>37</td>\n",
       "      <td>35</td>\n",
       "      <td>30</td>\n",
       "      <td>21</td>\n",
       "      <td>16</td>\n",
       "      <td>12</td>\n",
       "      <td>21</td>\n",
       "      <td>24</td>\n",
       "      <td>...</td>\n",
       "      <td>NaN</td>\n",
       "      <td>NaN</td>\n",
       "      <td>NaN</td>\n",
       "      <td>NaN</td>\n",
       "      <td>NaN</td>\n",
       "      <td>NaN</td>\n",
       "      <td>NaN</td>\n",
       "      <td>NaN</td>\n",
       "      <td>NaN</td>\n",
       "      <td>NaN</td>\n",
       "    </tr>\n",
       "    <tr>\n",
       "      <th>4</th>\n",
       "      <td>27</td>\n",
       "      <td>40</td>\n",
       "      <td>-29</td>\n",
       "      <td>-25</td>\n",
       "      <td>-14</td>\n",
       "      <td>-13</td>\n",
       "      <td>-4</td>\n",
       "      <td>-17</td>\n",
       "      <td>-29</td>\n",
       "      <td>-37</td>\n",
       "      <td>...</td>\n",
       "      <td>NaN</td>\n",
       "      <td>NaN</td>\n",
       "      <td>NaN</td>\n",
       "      <td>NaN</td>\n",
       "      <td>NaN</td>\n",
       "      <td>NaN</td>\n",
       "      <td>NaN</td>\n",
       "      <td>NaN</td>\n",
       "      <td>NaN</td>\n",
       "      <td>NaN</td>\n",
       "    </tr>\n",
       "  </tbody>\n",
       "</table>\n",
       "<p>5 rows × 137 columns</p>\n",
       "</div>"
      ],
      "text/plain": [
       "   0    1    2    3    4    5    6    7    8    9    ...     127     128  \\\n",
       "0   52   55  -27  -15    0   22   -5   55   28   48  ...     NaN     NaN   \n",
       "1   40   52   37   34   34   21   31   15   24   13  ...     NaN     NaN   \n",
       "2   38   44  -11    0   -1  -13  -16    1    5    5  ...  9986.0  9984.0   \n",
       "3   40   31   37   35   30   21   16   12   21   24  ...     NaN     NaN   \n",
       "4   27   40  -29  -25  -14  -13   -4  -17  -29  -37  ...     NaN     NaN   \n",
       "\n",
       "      129     130     131     132     133     134     135     136  \n",
       "0     NaN     NaN     NaN     NaN     NaN     NaN     NaN     NaN  \n",
       "1     NaN     NaN     NaN     NaN     NaN     NaN     NaN     NaN  \n",
       "2  9991.0  9992.0  9993.0  9994.0  9994.0  5870.0  9987.0  9988.0  \n",
       "3     NaN     NaN     NaN     NaN     NaN     NaN     NaN     NaN  \n",
       "4     NaN     NaN     NaN     NaN     NaN     NaN     NaN     NaN  \n",
       "\n",
       "[5 rows x 137 columns]"
      ]
     },
     "execution_count": null,
     "metadata": {},
     "output_type": "execute_result"
    }
   ],
   "source": [
    "evals.head()"
   ]
  },
  {
   "cell_type": "code",
   "execution_count": null,
   "id": "c7eb7fbd-91d3-4fd5-b577-201ef2bb7468",
   "metadata": {},
   "outputs": [],
   "source": [
    "evals.to_csv(\"data/magnus_evals.csv\")"
   ]
  },
  {
   "cell_type": "code",
   "execution_count": null,
   "id": "fc84aacb-64cb-4e7f-9244-89708cfc67e7",
   "metadata": {},
   "outputs": [],
   "source": []
  }
 ],
 "metadata": {
  "kernelspec": {
   "display_name": "Python 3",
   "language": "python",
   "name": "python3"
  }
 },
 "nbformat": 4,
 "nbformat_minor": 5
}
