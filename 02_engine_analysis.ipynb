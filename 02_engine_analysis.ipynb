{
 "cells": [
  {
   "cell_type": "code",
   "execution_count": null,
   "id": "ff764297-0df2-4625-b45f-0a815cc0fb44",
   "metadata": {},
   "outputs": [],
   "source": [
    "# default_exp engine"
   ]
  },
  {
   "cell_type": "markdown",
   "id": "c9af4a0d-9f3f-4d00-b82a-1b821978ddd9",
   "metadata": {},
   "source": [
    "# Engine\n",
    "\n",
    "> Use a chess engine to analyze moves."
   ]
  },
  {
   "cell_type": "code",
   "execution_count": null,
   "id": "09a3e0bf-1c51-4561-a59f-820cb9a13a7c",
   "metadata": {},
   "outputs": [],
   "source": [
    "#export\n",
    "import chess.engine\n",
    "import chess.pgn\n",
    "import pandas as pd"
   ]
  },
  {
   "cell_type": "code",
   "execution_count": null,
   "id": "eb5643f9-a0d9-4fca-9356-70c01cd14018",
   "metadata": {},
   "outputs": [],
   "source": [
    "stockfish = \"stockfish_14_linux_x64_popcnt/stockfish_14_x64_popcnt\" # location of stockfish executable or alias"
   ]
  },
  {
   "cell_type": "code",
   "execution_count": null,
   "id": "33ae8b49-db5c-4e75-945e-a23900567b51",
   "metadata": {},
   "outputs": [],
   "source": [
    "engine = chess.engine.SimpleEngine.popen_uci(stockfish)"
   ]
  },
  {
   "cell_type": "code",
   "execution_count": null,
   "id": "cfe4e93f-0843-4632-a7ea-cf2890fa5b1c",
   "metadata": {},
   "outputs": [],
   "source": [
    "pgn = open(\"data/magnus.pgn\")"
   ]
  },
  {
   "cell_type": "code",
   "execution_count": null,
   "id": "8230c94c-c213-4fdd-a51b-e0d5e20fe3aa",
   "metadata": {},
   "outputs": [],
   "source": [
    "game = chess.pgn.read_game(pgn)"
   ]
  },
  {
   "cell_type": "code",
   "execution_count": null,
   "id": "70abac76-4b55-4f5b-b064-8894da3dc076",
   "metadata": {},
   "outputs": [
    {
     "data": {
      "text/plain": [
       "Headers(Event='Rated Blitz game', Site='https://lichess.org/lAV0T0zl', Date='2021.12.23', Round='?', White='DrNykterstein', Black='may6enexttime', Result='1-0', BlackElo='2974', BlackRatingDiff='-2', BlackTitle='GM', ECO='B20', Termination='Normal', TimeControl='180+0', UTCDate='2021.12.23', UTCTime='23:28:07', Variant='Standard', WhiteElo='3212', WhiteRatingDiff='+2', WhiteTitle='GM')"
      ]
     },
     "execution_count": null,
     "metadata": {},
     "output_type": "execute_result"
    }
   ],
   "source": [
    "game.headers"
   ]
  },
  {
   "cell_type": "code",
   "execution_count": null,
   "id": "ffe7d41d-f6b7-4959-a28c-5a8033628378",
   "metadata": {},
   "outputs": [],
   "source": [
    "#export\n",
    "def evaluate_game(game, engine, limit=chess.engine.Limit(time=.1)):\n",
    "    \"\"\"Go through a game move-by-move and evaluate each position with an engine.\n",
    "    \"\"\"\n",
    "    board = game.board()\n",
    "    moves = game.mainline_moves()\n",
    "    evals = []\n",
    "    for move in moves:\n",
    "        board.push(move)\n",
    "        info = engine.analyse(board, limit=limit)\n",
    "        score = info[\"score\"].pov(chess.WHITE).score(mate_score=10_000)\n",
    "        evals.append(score)\n",
    "    return evals"
   ]
  },
  {
   "cell_type": "code",
   "execution_count": null,
   "id": "c2f14c00-a3ce-4f5c-a205-0a4cadca580a",
   "metadata": {},
   "outputs": [],
   "source": [
    "evals = evaluate_game(game, engine)"
   ]
  },
  {
   "cell_type": "code",
   "execution_count": null,
   "id": "50523711-4d02-48ba-be55-ca061e8320cc",
   "metadata": {},
   "outputs": [
    {
     "data": {
      "text/plain": [
       "[28,\n",
       " 46,\n",
       " -20,\n",
       " -20,\n",
       " -12,\n",
       " -9,\n",
       " 33,\n",
       " 67,\n",
       " 27,\n",
       " 20,\n",
       " -116,\n",
       " -95,\n",
       " -55,\n",
       " -50,\n",
       " -46,\n",
       " -67,\n",
       " -118,\n",
       " -136,\n",
       " -159,\n",
       " -138,\n",
       " -144,\n",
       " -141,\n",
       " -123,\n",
       " -16,\n",
       " -70,\n",
       " -62,\n",
       " -59,\n",
       " -49,\n",
       " -81,\n",
       " -57,\n",
       " -70,\n",
       " -42,\n",
       " -27,\n",
       " 8,\n",
       " -21,\n",
       " 10,\n",
       " 18,\n",
       " 0,\n",
       " 0,\n",
       " 319,\n",
       " 350,\n",
       " 375,\n",
       " 330,\n",
       " 275,\n",
       " 261,\n",
       " 347,\n",
       " 379,\n",
       " 559,\n",
       " 517,\n",
       " 525,\n",
       " 528,\n",
       " 548,\n",
       " 554,\n",
       " 617,\n",
       " 610]"
      ]
     },
     "execution_count": null,
     "metadata": {},
     "output_type": "execute_result"
    }
   ],
   "source": [
    "evals"
   ]
  },
  {
   "cell_type": "code",
   "execution_count": null,
   "id": "2dc90a08-cd99-443d-9987-2e2ef5acfe9b",
   "metadata": {},
   "outputs": [],
   "source": [
    "#export\n",
    "def evaluate_pgn(pgn, engine, limit=chess.engine.Limit(time=.1)):\n",
    "    \"\"\"Evaluate all games in a PGN with the engine.\n",
    "    \"\"\"\n",
    "    game = chess.pgn.read_game(pgn)\n",
    "    all_evals = []\n",
    "    while game:\n",
    "        evals = evaluate_game(game, engine, limit)\n",
    "        all_evals.append(evals)\n",
    "        game = chess.pgn.read_game(pgn)\n",
    "    df = pd.DataFrame(all_evals)\n",
    "    return df"
   ]
  },
  {
   "cell_type": "code",
   "execution_count": null,
   "id": "ccc8cb12-93be-4f9d-a0f6-c9f1edc3bcc6",
   "metadata": {},
   "outputs": [],
   "source": [
    "pgn = open(\"data/magnus.pgn\")"
   ]
  },
  {
   "cell_type": "code",
   "execution_count": null,
   "id": "c4039658-6454-4fb1-b5a0-76181ab34da4",
   "metadata": {},
   "outputs": [],
   "source": [
    "evals = evaluate_pgn(pgn, engine)"
   ]
  },
  {
   "cell_type": "code",
   "execution_count": null,
   "id": "1219152d-9955-4b56-8113-0a9362e4382c",
   "metadata": {},
   "outputs": [
    {
     "data": {
      "text/html": [
       "<div>\n",
       "<style scoped>\n",
       "    .dataframe tbody tr th:only-of-type {\n",
       "        vertical-align: middle;\n",
       "    }\n",
       "\n",
       "    .dataframe tbody tr th {\n",
       "        vertical-align: top;\n",
       "    }\n",
       "\n",
       "    .dataframe thead th {\n",
       "        text-align: right;\n",
       "    }\n",
       "</style>\n",
       "<table border=\"1\" class=\"dataframe\">\n",
       "  <thead>\n",
       "    <tr style=\"text-align: right;\">\n",
       "      <th></th>\n",
       "      <th>0</th>\n",
       "      <th>1</th>\n",
       "      <th>2</th>\n",
       "      <th>3</th>\n",
       "      <th>4</th>\n",
       "      <th>5</th>\n",
       "      <th>6</th>\n",
       "      <th>7</th>\n",
       "      <th>8</th>\n",
       "      <th>9</th>\n",
       "      <th>...</th>\n",
       "      <th>127</th>\n",
       "      <th>128</th>\n",
       "      <th>129</th>\n",
       "      <th>130</th>\n",
       "      <th>131</th>\n",
       "      <th>132</th>\n",
       "      <th>133</th>\n",
       "      <th>134</th>\n",
       "      <th>135</th>\n",
       "      <th>136</th>\n",
       "    </tr>\n",
       "  </thead>\n",
       "  <tbody>\n",
       "    <tr>\n",
       "      <th>0</th>\n",
       "      <td>26</td>\n",
       "      <td>35</td>\n",
       "      <td>-23</td>\n",
       "      <td>-11</td>\n",
       "      <td>-8</td>\n",
       "      <td>0</td>\n",
       "      <td>15</td>\n",
       "      <td>62</td>\n",
       "      <td>25</td>\n",
       "      <td>54</td>\n",
       "      <td>...</td>\n",
       "      <td>NaN</td>\n",
       "      <td>NaN</td>\n",
       "      <td>NaN</td>\n",
       "      <td>NaN</td>\n",
       "      <td>NaN</td>\n",
       "      <td>NaN</td>\n",
       "      <td>NaN</td>\n",
       "      <td>NaN</td>\n",
       "      <td>NaN</td>\n",
       "      <td>NaN</td>\n",
       "    </tr>\n",
       "    <tr>\n",
       "      <th>1</th>\n",
       "      <td>31</td>\n",
       "      <td>32</td>\n",
       "      <td>38</td>\n",
       "      <td>44</td>\n",
       "      <td>24</td>\n",
       "      <td>25</td>\n",
       "      <td>38</td>\n",
       "      <td>26</td>\n",
       "      <td>38</td>\n",
       "      <td>26</td>\n",
       "      <td>...</td>\n",
       "      <td>NaN</td>\n",
       "      <td>NaN</td>\n",
       "      <td>NaN</td>\n",
       "      <td>NaN</td>\n",
       "      <td>NaN</td>\n",
       "      <td>NaN</td>\n",
       "      <td>NaN</td>\n",
       "      <td>NaN</td>\n",
       "      <td>NaN</td>\n",
       "      <td>NaN</td>\n",
       "    </tr>\n",
       "    <tr>\n",
       "      <th>2</th>\n",
       "      <td>43</td>\n",
       "      <td>33</td>\n",
       "      <td>-19</td>\n",
       "      <td>-25</td>\n",
       "      <td>-7</td>\n",
       "      <td>-3</td>\n",
       "      <td>-9</td>\n",
       "      <td>9</td>\n",
       "      <td>24</td>\n",
       "      <td>15</td>\n",
       "      <td>...</td>\n",
       "      <td>9986.0</td>\n",
       "      <td>9984.0</td>\n",
       "      <td>9989.0</td>\n",
       "      <td>9992.0</td>\n",
       "      <td>9993.0</td>\n",
       "      <td>9994.0</td>\n",
       "      <td>9994.0</td>\n",
       "      <td>9988.0</td>\n",
       "      <td>9989.0</td>\n",
       "      <td>9990.0</td>\n",
       "    </tr>\n",
       "    <tr>\n",
       "      <th>3</th>\n",
       "      <td>33</td>\n",
       "      <td>40</td>\n",
       "      <td>44</td>\n",
       "      <td>49</td>\n",
       "      <td>28</td>\n",
       "      <td>17</td>\n",
       "      <td>5</td>\n",
       "      <td>8</td>\n",
       "      <td>15</td>\n",
       "      <td>0</td>\n",
       "      <td>...</td>\n",
       "      <td>NaN</td>\n",
       "      <td>NaN</td>\n",
       "      <td>NaN</td>\n",
       "      <td>NaN</td>\n",
       "      <td>NaN</td>\n",
       "      <td>NaN</td>\n",
       "      <td>NaN</td>\n",
       "      <td>NaN</td>\n",
       "      <td>NaN</td>\n",
       "      <td>NaN</td>\n",
       "    </tr>\n",
       "    <tr>\n",
       "      <th>4</th>\n",
       "      <td>44</td>\n",
       "      <td>42</td>\n",
       "      <td>-33</td>\n",
       "      <td>-16</td>\n",
       "      <td>-18</td>\n",
       "      <td>-7</td>\n",
       "      <td>-21</td>\n",
       "      <td>-19</td>\n",
       "      <td>-37</td>\n",
       "      <td>-27</td>\n",
       "      <td>...</td>\n",
       "      <td>NaN</td>\n",
       "      <td>NaN</td>\n",
       "      <td>NaN</td>\n",
       "      <td>NaN</td>\n",
       "      <td>NaN</td>\n",
       "      <td>NaN</td>\n",
       "      <td>NaN</td>\n",
       "      <td>NaN</td>\n",
       "      <td>NaN</td>\n",
       "      <td>NaN</td>\n",
       "    </tr>\n",
       "  </tbody>\n",
       "</table>\n",
       "<p>5 rows × 137 columns</p>\n",
       "</div>"
      ],
      "text/plain": [
       "   0    1    2    3    4    5    6    7    8    9    ...     127     128  \\\n",
       "0   26   35  -23  -11   -8    0   15   62   25   54  ...     NaN     NaN   \n",
       "1   31   32   38   44   24   25   38   26   38   26  ...     NaN     NaN   \n",
       "2   43   33  -19  -25   -7   -3   -9    9   24   15  ...  9986.0  9984.0   \n",
       "3   33   40   44   49   28   17    5    8   15    0  ...     NaN     NaN   \n",
       "4   44   42  -33  -16  -18   -7  -21  -19  -37  -27  ...     NaN     NaN   \n",
       "\n",
       "      129     130     131     132     133     134     135     136  \n",
       "0     NaN     NaN     NaN     NaN     NaN     NaN     NaN     NaN  \n",
       "1     NaN     NaN     NaN     NaN     NaN     NaN     NaN     NaN  \n",
       "2  9989.0  9992.0  9993.0  9994.0  9994.0  9988.0  9989.0  9990.0  \n",
       "3     NaN     NaN     NaN     NaN     NaN     NaN     NaN     NaN  \n",
       "4     NaN     NaN     NaN     NaN     NaN     NaN     NaN     NaN  \n",
       "\n",
       "[5 rows x 137 columns]"
      ]
     },
     "execution_count": null,
     "metadata": {},
     "output_type": "execute_result"
    }
   ],
   "source": [
    "evals.head()"
   ]
  },
  {
   "cell_type": "code",
   "execution_count": null,
   "id": "c7eb7fbd-91d3-4fd5-b577-201ef2bb7468",
   "metadata": {},
   "outputs": [],
   "source": [
    "evals.to_csv(\"data/magnus_evals.csv\")"
   ]
  },
  {
   "cell_type": "code",
   "execution_count": null,
   "id": "fc84aacb-64cb-4e7f-9244-89708cfc67e7",
   "metadata": {},
   "outputs": [],
   "source": []
  }
 ],
 "metadata": {
  "kernelspec": {
   "display_name": "Python 3",
   "language": "python",
   "name": "python3"
  }
 },
 "nbformat": 4,
 "nbformat_minor": 5
}
