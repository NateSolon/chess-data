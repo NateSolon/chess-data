{
 "cells": [
  {
   "cell_type": "markdown",
   "metadata": {},
   "source": [
    "# ChessData\n",
    "\n",
    "> Tools for analyzing chess data."
   ]
  },
  {
   "cell_type": "markdown",
   "metadata": {},
   "source": [
    "Access chess games with public APIs, convert chess formats like PGNs to data-friendly formats like CSVs, and analyze moves with chess engines."
   ]
  },
  {
   "cell_type": "markdown",
   "metadata": {},
   "source": [
    "## About"
   ]
  },
  {
   "cell_type": "markdown",
   "metadata": {},
   "source": [
    "Chess is a rich area for data analysis. Records of billions (!) of games are available for free. These can be mined not only for chess insights, but to research other areas of interest including explainable AI, fraud detection, and many others. But chess games are typically not stored in formats suitable for data analysis.\n",
    "\n",
    "This library contains tools to make it easier to do research with chess data. It allows you to convert PGNs - the most common format for chess games, which is human-readable but poorly suited to data analysis - and converts them to data-friendly formats like CSVs. It also contains utilities for using a ches"
   ]
  },
  {
   "cell_type": "markdown",
   "metadata": {},
   "source": [
    "## Install"
   ]
  },
  {
   "cell_type": "markdown",
   "metadata": {},
   "source": [
    "`git clone https://github.com/NateSolon/chessdata.git`"
   ]
  },
  {
   "cell_type": "markdown",
   "metadata": {},
   "source": [
    "## How to use"
   ]
  },
  {
   "cell_type": "code",
   "execution_count": null,
   "metadata": {},
   "outputs": [],
   "source": [
    "from chessdata.etf import pgn2df"
   ]
  },
  {
   "cell_type": "code",
   "execution_count": null,
   "metadata": {},
   "outputs": [],
   "source": [
    "pgn = open(\"data/magnus.pgn\")"
   ]
  },
  {
   "cell_type": "code",
   "execution_count": null,
   "metadata": {},
   "outputs": [],
   "source": [
    "df = pgn2df(pgn)"
   ]
  },
  {
   "cell_type": "code",
   "execution_count": null,
   "metadata": {},
   "outputs": [
    {
     "data": {
      "text/html": [
       "<div>\n",
       "<style scoped>\n",
       "    .dataframe tbody tr th:only-of-type {\n",
       "        vertical-align: middle;\n",
       "    }\n",
       "\n",
       "    .dataframe tbody tr th {\n",
       "        vertical-align: top;\n",
       "    }\n",
       "\n",
       "    .dataframe thead th {\n",
       "        text-align: right;\n",
       "    }\n",
       "</style>\n",
       "<table border=\"1\" class=\"dataframe\">\n",
       "  <thead>\n",
       "    <tr style=\"text-align: right;\">\n",
       "      <th></th>\n",
       "      <th>Event</th>\n",
       "      <th>Site</th>\n",
       "      <th>Date</th>\n",
       "      <th>Round</th>\n",
       "      <th>White</th>\n",
       "      <th>Black</th>\n",
       "      <th>Result</th>\n",
       "      <th>BlackElo</th>\n",
       "      <th>BlackRatingDiff</th>\n",
       "      <th>BlackTitle</th>\n",
       "      <th>ECO</th>\n",
       "      <th>Termination</th>\n",
       "      <th>TimeControl</th>\n",
       "      <th>UTCDate</th>\n",
       "      <th>UTCTime</th>\n",
       "      <th>Variant</th>\n",
       "      <th>WhiteElo</th>\n",
       "      <th>WhiteRatingDiff</th>\n",
       "      <th>WhiteTitle</th>\n",
       "    </tr>\n",
       "  </thead>\n",
       "  <tbody>\n",
       "    <tr>\n",
       "      <th>0</th>\n",
       "      <td>Rated Blitz game</td>\n",
       "      <td>https://lichess.org/lAV0T0zl</td>\n",
       "      <td>2021.12.23</td>\n",
       "      <td>?</td>\n",
       "      <td>DrNykterstein</td>\n",
       "      <td>may6enexttime</td>\n",
       "      <td>1-0</td>\n",
       "      <td>2974</td>\n",
       "      <td>-2</td>\n",
       "      <td>GM</td>\n",
       "      <td>B20</td>\n",
       "      <td>Normal</td>\n",
       "      <td>180+0</td>\n",
       "      <td>2021.12.23</td>\n",
       "      <td>23:28:07</td>\n",
       "      <td>Standard</td>\n",
       "      <td>3212</td>\n",
       "      <td>+2</td>\n",
       "      <td>GM</td>\n",
       "    </tr>\n",
       "    <tr>\n",
       "      <th>1</th>\n",
       "      <td>Rated Blitz game</td>\n",
       "      <td>https://lichess.org/Nfk9W01S</td>\n",
       "      <td>2021.12.23</td>\n",
       "      <td>?</td>\n",
       "      <td>may6enexttime</td>\n",
       "      <td>DrNykterstein</td>\n",
       "      <td>0-1</td>\n",
       "      <td>3209</td>\n",
       "      <td>+3</td>\n",
       "      <td>GM</td>\n",
       "      <td>E48</td>\n",
       "      <td>Time forfeit</td>\n",
       "      <td>180+0</td>\n",
       "      <td>2021.12.23</td>\n",
       "      <td>23:21:54</td>\n",
       "      <td>Standard</td>\n",
       "      <td>2977</td>\n",
       "      <td>-3</td>\n",
       "      <td>GM</td>\n",
       "    </tr>\n",
       "    <tr>\n",
       "      <th>2</th>\n",
       "      <td>Rated Blitz game</td>\n",
       "      <td>https://lichess.org/mpxofZFJ</td>\n",
       "      <td>2021.12.23</td>\n",
       "      <td>?</td>\n",
       "      <td>DrNykterstein</td>\n",
       "      <td>may6enexttime</td>\n",
       "      <td>1-0</td>\n",
       "      <td>2979</td>\n",
       "      <td>-2</td>\n",
       "      <td>GM</td>\n",
       "      <td>B20</td>\n",
       "      <td>Time forfeit</td>\n",
       "      <td>180+0</td>\n",
       "      <td>2021.12.23</td>\n",
       "      <td>23:15:48</td>\n",
       "      <td>Standard</td>\n",
       "      <td>3207</td>\n",
       "      <td>+2</td>\n",
       "      <td>GM</td>\n",
       "    </tr>\n",
       "    <tr>\n",
       "      <th>3</th>\n",
       "      <td>Rated Blitz game</td>\n",
       "      <td>https://lichess.org/hjSxkukT</td>\n",
       "      <td>2021.12.23</td>\n",
       "      <td>?</td>\n",
       "      <td>may6enexttime</td>\n",
       "      <td>DrNykterstein</td>\n",
       "      <td>0-1</td>\n",
       "      <td>3204</td>\n",
       "      <td>+3</td>\n",
       "      <td>GM</td>\n",
       "      <td>E48</td>\n",
       "      <td>Normal</td>\n",
       "      <td>180+0</td>\n",
       "      <td>2021.12.23</td>\n",
       "      <td>23:10:43</td>\n",
       "      <td>Standard</td>\n",
       "      <td>2982</td>\n",
       "      <td>-3</td>\n",
       "      <td>GM</td>\n",
       "    </tr>\n",
       "    <tr>\n",
       "      <th>4</th>\n",
       "      <td>Rated Blitz game</td>\n",
       "      <td>https://lichess.org/5cgs1l6r</td>\n",
       "      <td>2021.12.23</td>\n",
       "      <td>?</td>\n",
       "      <td>DrNykterstein</td>\n",
       "      <td>may6enexttime</td>\n",
       "      <td>1-0</td>\n",
       "      <td>2984</td>\n",
       "      <td>-2</td>\n",
       "      <td>GM</td>\n",
       "      <td>B20</td>\n",
       "      <td>Normal</td>\n",
       "      <td>180+0</td>\n",
       "      <td>2021.12.23</td>\n",
       "      <td>23:07:55</td>\n",
       "      <td>Standard</td>\n",
       "      <td>3202</td>\n",
       "      <td>+2</td>\n",
       "      <td>GM</td>\n",
       "    </tr>\n",
       "  </tbody>\n",
       "</table>\n",
       "</div>"
      ],
      "text/plain": [
       "              Event                          Site        Date Round  \\\n",
       "0  Rated Blitz game  https://lichess.org/lAV0T0zl  2021.12.23     ?   \n",
       "1  Rated Blitz game  https://lichess.org/Nfk9W01S  2021.12.23     ?   \n",
       "2  Rated Blitz game  https://lichess.org/mpxofZFJ  2021.12.23     ?   \n",
       "3  Rated Blitz game  https://lichess.org/hjSxkukT  2021.12.23     ?   \n",
       "4  Rated Blitz game  https://lichess.org/5cgs1l6r  2021.12.23     ?   \n",
       "\n",
       "           White          Black Result BlackElo BlackRatingDiff BlackTitle  \\\n",
       "0  DrNykterstein  may6enexttime    1-0     2974              -2         GM   \n",
       "1  may6enexttime  DrNykterstein    0-1     3209              +3         GM   \n",
       "2  DrNykterstein  may6enexttime    1-0     2979              -2         GM   \n",
       "3  may6enexttime  DrNykterstein    0-1     3204              +3         GM   \n",
       "4  DrNykterstein  may6enexttime    1-0     2984              -2         GM   \n",
       "\n",
       "   ECO   Termination TimeControl     UTCDate   UTCTime   Variant WhiteElo  \\\n",
       "0  B20        Normal       180+0  2021.12.23  23:28:07  Standard     3212   \n",
       "1  E48  Time forfeit       180+0  2021.12.23  23:21:54  Standard     2977   \n",
       "2  B20  Time forfeit       180+0  2021.12.23  23:15:48  Standard     3207   \n",
       "3  E48        Normal       180+0  2021.12.23  23:10:43  Standard     2982   \n",
       "4  B20        Normal       180+0  2021.12.23  23:07:55  Standard     3202   \n",
       "\n",
       "  WhiteRatingDiff WhiteTitle  \n",
       "0              +2         GM  \n",
       "1              -3         GM  \n",
       "2              +2         GM  \n",
       "3              -3         GM  \n",
       "4              +2         GM  "
      ]
     },
     "execution_count": null,
     "metadata": {},
     "output_type": "execute_result"
    }
   ],
   "source": [
    "df.head()"
   ]
  },
  {
   "cell_type": "markdown",
   "metadata": {},
   "source": [
    "Please see the notebooks for more examples and use cases."
   ]
  },
  {
   "cell_type": "code",
   "execution_count": null,
   "metadata": {},
   "outputs": [],
   "source": []
  }
 ],
 "metadata": {
  "kernelspec": {
   "display_name": "Python 3",
   "language": "python",
   "name": "python3"
  }
 },
 "nbformat": 4,
 "nbformat_minor": 4
}
